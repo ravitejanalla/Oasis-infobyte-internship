{
  "nbformat": 4,
  "nbformat_minor": 0,
  "metadata": {
    "colab": {
      "provenance": []
    },
    "kernelspec": {
      "name": "python3",
      "display_name": "Python 3"
    },
    "language_info": {
      "name": "python"
    }
  },
  "cells": [
    {
      "cell_type": "code",
      "source": [
        "print(data.isnull().sum())"
      ],
      "metadata": {
        "colab": {
          "base_uri": "https://localhost:8080/"
        },
        "id": "RgeyCG719jhi",
        "outputId": "84dc30f9-bebf-442c-805a-93948a494122"
      },
      "execution_count": 2,
      "outputs": [
        {
          "output_type": "stream",
          "name": "stdout",
          "text": [
            "Unnamed: 0    0\n",
            "TV            0\n",
            "Radio         0\n",
            "Newspaper     0\n",
            "Sales         0\n",
            "dtype: int64\n"
          ]
        }
      ]
    },
    {
      "cell_type": "code",
      "execution_count": 1,
      "metadata": {
        "colab": {
          "base_uri": "https://localhost:8080/"
        },
        "id": "_UHuC7u79UHt",
        "outputId": "cbcbe5af-820a-4fdc-ea04-ac30becd9469"
      },
      "outputs": [
        {
          "output_type": "stream",
          "name": "stdout",
          "text": [
            "   Unnamed: 0     TV  Radio  Newspaper  Sales\n",
            "0           1  230.1   37.8       69.2   22.1\n",
            "1           2   44.5   39.3       45.1   10.4\n",
            "2           3   17.2   45.9       69.3    9.3\n",
            "3           4  151.5   41.3       58.5   18.5\n",
            "4           5  180.8   10.8       58.4   12.9\n"
          ]
        }
      ],
      "source": [
        "import pandas as pd\n",
        "import numpy as np\n",
        "import matplotlib.pyplot as plt\n",
        "import seaborn as sns\n",
        "from sklearn.model_selection import train_test_split\n",
        "from sklearn.linear_model import LinearRegression\n",
        "\n",
        "data = pd.read_csv(\"Advertising.csv\")\n",
        "print(data.head())"
      ]
    },
    {
      "cell_type": "code",
      "source": [
        "plt.style.use('seaborn-whitegrid')\n",
        "plt.figure(figsize=(12, 10))\n",
        "sns.heatmap(data.corr())\n",
        "plt.show()"
      ],
      "metadata": {
        "colab": {
          "base_uri": "https://localhost:8080/",
          "height": 592
        },
        "id": "yFrpVWHj9lqb",
        "outputId": "3ab864f5-245f-4e9d-f97d-65a9cac15eb8"
      },
      "execution_count": 3,
      "outputs": [
        {
          "output_type": "display_data",
          "data": {
            "text/plain": [
              "<Figure size 864x720 with 2 Axes>"
            ],
            "image/png": "[encoded data removed]"
          },
          "metadata": {}
        }
      ]
    },
    {
      "cell_type": "code",
      "source": [
        "x = np.array(data.drop([\"Sales\"], 1))\n",
        "y = np.array(data[\"Sales\"])\n",
        "xtrain, xtest, ytrain, ytest = train_test_split(x, y, test_size=0.2, random_state=42)\n",
        "model = LinearRegression()\n",
        "model.fit(xtrain, ytrain)\n",
        "ypred = model.predict(xtest)\n",
        "\n",
        "data = pd.DataFrame(data={\"Predicted Sales\": ypred.flatten()})\n",
        "print(data)"
      ],
      "metadata": {
        "colab": {
          "base_uri": "https://localhost:8080/"
        },
        "id": "tXjWWvvF9oor",
        "outputId": "36f397f2-09f0-414d-c4be-0450f66ab6a1"
      },
      "execution_count": 4,
      "outputs": [
        {
          "output_type": "stream",
          "name": "stdout",
          "text": [
            "    Predicted Sales\n",
            "0         16.412277\n",
            "1         20.843193\n",
            "2         21.511869\n",
            "3         10.653100\n",
            "4         22.124058\n",
            "5         13.123835\n",
            "6         21.037489\n",
            "7          7.503854\n",
            "8         13.647870\n",
            "9         15.120409\n",
            "10         9.020556\n",
            "11         6.706666\n",
            "12        14.401551\n",
            "13         8.886090\n",
            "14         9.743533\n",
            "15        12.215520\n",
            "16         8.713709\n",
            "17        16.294145\n",
            "18        10.268023\n",
            "19        18.804982\n",
            "20        19.588647\n",
            "21        13.223183\n",
            "22        12.364787\n",
            "23        21.314736\n",
            "24         7.797347\n",
            "25         5.781900\n",
            "26        20.749348\n",
            "27        11.954767\n",
            "28         9.199109\n",
            "29         8.521787\n",
            "30        12.404313\n",
            "31         9.948652\n",
            "32        21.368803\n",
            "33        12.253748\n",
            "34        18.299435\n",
            "35        20.133474\n",
            "36        14.074646\n",
            "37        20.885947\n",
            "38        11.052150\n",
            "39         4.551687\n"
          ]
        },
        {
          "output_type": "stream",
          "name": "stderr",
          "text": [
            "<ipython-input-4-9c4ba647eb01>:1: FutureWarning: In a future version of pandas all arguments of DataFrame.drop except for the argument 'labels' will be keyword-only\n",
            "  x = np.array(data.drop([\"Sales\"], 1))\n"
          ]
        }
      ]
    }
  ]
}